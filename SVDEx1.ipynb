{
  "nbformat": 4,
  "nbformat_minor": 0,
  "metadata": {
    "colab": {
      "name": "SVDEx1.ipynb",
      "version": "0.3.2",
      "provenance": [],
      "include_colab_link": true
    },
    "kernelspec": {
      "display_name": "Python 3",
      "language": "python",
      "name": "python3"
    }
  },
  "cells": [
    {
      "cell_type": "markdown",
      "metadata": {
        "id": "view-in-github",
        "colab_type": "text"
      },
      "source": [
        "<a href=\"https://colab.research.google.com/github/cveaswaran/Devices/blob/master/SVDEx1.ipynb\" target=\"_parent\"><img src=\"https://colab.research.google.com/assets/colab-badge.svg\" alt=\"Open In Colab\"/></a>"
      ]
    },
    {
      "metadata": {
        "id": "_vHOgjUbK5kg",
        "colab_type": "text"
      },
      "cell_type": "markdown",
      "source": [
        "## Singular Value Decomposition (SVD) Example using numpy (Not using scikit-learn here) ##\n",
        "### Given a rectangular matrix A, it can be factored into the form $A = U \\Sigma V^T$ where $U$ and $V^T$ are orthonormal and $\\Sigma$ is a diagonal matrix of singular values ###\n"
      ]
    },
    {
      "metadata": {
        "id": "tlwpnwrcK5kn",
        "colab_type": "code",
        "colab": {}
      },
      "cell_type": "code",
      "source": [
        "import numpy as np\n",
        "np.set_printoptions(precision=4, suppress=True)"
      ],
      "execution_count": 0,
      "outputs": []
    },
    {
      "metadata": {
        "id": "9UrqhiRdK5k4",
        "colab_type": "text"
      },
      "cell_type": "markdown",
      "source": [
        "### We will take a simple 3x4 matrix and look at its Singular Value Decomposition with numpy ###"
      ]
    },
    {
      "metadata": {
        "id": "OEacIFjuK5k9",
        "colab_type": "code",
        "colab": {}
      },
      "cell_type": "code",
      "source": [
        "a= np.array([[1,2,3,4], [1,1,2,3],[0,1,1,0]])"
      ],
      "execution_count": 0,
      "outputs": []
    },
    {
      "metadata": {
        "id": "L4MST2w0K5lI",
        "colab_type": "text"
      },
      "cell_type": "markdown",
      "source": [
        "### The SVD of this 3x4 matrix seeks a factorization in the form ###"
      ]
    },
    {
      "metadata": {
        "id": "38x3Jw4uK5lN",
        "colab_type": "text"
      },
      "cell_type": "markdown",
      "source": [
        "$\n",
        "\\begin{bmatrix}\n",
        "    1     & 2  & 3 & 4  \\\\\n",
        "    1     & 1  & 2 & 3 \\\\\n",
        "    0     & 1  & 1 & 0\n",
        "\\end{bmatrix}\n",
        "=\n",
        "\\begin{bmatrix}\n",
        "       &  &   \\\\\n",
        "       & 3\\times 3 ~\\text{matrix}  &  \\\\\n",
        "       &  & \n",
        "\\end{bmatrix}.\n",
        "\\begin{bmatrix}\n",
        "    \\sigma_1     & 0  & 0 & 0  \\\\\n",
        "    0     & \\sigma_2  & 0 & 0  \\\\\n",
        "    0     & 0  & \\sigma_3 & 0 \\\\\n",
        "\\end{bmatrix}.\n",
        "\\begin{bmatrix}\n",
        "       &  &   \\\\\n",
        "       & 4\\times 4 ~\\text{matrix}   &  \\\\\n",
        "       &  & \n",
        "\\end{bmatrix}\n",
        " $"
      ]
    },
    {
      "metadata": {
        "id": "mCTtc53nK5lQ",
        "colab_type": "text"
      },
      "cell_type": "markdown",
      "source": [
        "### The number of singular values, $\\sigma$'s, is at most 3, since the original matrix has rank at most 3 ###\n",
        "### The left singular matrix and the right singular matrix are orthonormal ###"
      ]
    },
    {
      "metadata": {
        "id": "vymSlSZ7K5lT",
        "colab_type": "code",
        "colab": {}
      },
      "cell_type": "code",
      "source": [
        "u, s, vh = np.linalg.svd(a, full_matrices=True)"
      ],
      "execution_count": 0,
      "outputs": []
    },
    {
      "metadata": {
        "id": "5LpPd-2TK5ld",
        "colab_type": "code",
        "colab": {},
        "outputId": "bb6ffe9a-d2da-4770-f8d6-8f5e324ada58"
      },
      "cell_type": "code",
      "source": [
        "u.shape, s.shape, vh.shape"
      ],
      "execution_count": 0,
      "outputs": [
        {
          "output_type": "execute_result",
          "data": {
            "text/plain": [
              "((3, 3), (3,), (4, 4))"
            ]
          },
          "metadata": {
            "tags": []
          },
          "execution_count": 4
        }
      ]
    },
    {
      "metadata": {
        "id": "tD6WMBKmK5lv",
        "colab_type": "code",
        "colab": {},
        "outputId": "fcf80060-7ed0-4088-e7a5-b6a83e046359"
      },
      "cell_type": "code",
      "source": [
        "u.shape, s.shape, vh.shape"
      ],
      "execution_count": 0,
      "outputs": [
        {
          "output_type": "execute_result",
          "data": {
            "text/plain": [
              "((3, 3), (3,), (4, 4))"
            ]
          },
          "metadata": {
            "tags": []
          },
          "execution_count": 5
        }
      ]
    },
    {
      "metadata": {
        "id": "YKV92W0uK5mC",
        "colab_type": "code",
        "colab": {},
        "outputId": "451f1fab-7e7e-4057-d2fb-f1d7da928bc6"
      },
      "cell_type": "code",
      "source": [
        "u"
      ],
      "execution_count": 0,
      "outputs": [
        {
          "output_type": "execute_result",
          "data": {
            "text/plain": [
              "array([[ 0.8109, -0.0934,  0.5776],\n",
              "       [ 0.57  ,  0.3493, -0.7437],\n",
              "       [ 0.1323, -0.9324, -0.3365]])"
            ]
          },
          "metadata": {
            "tags": []
          },
          "execution_count": 6
        }
      ]
    },
    {
      "metadata": {
        "id": "grdbXp-eK5mT",
        "colab_type": "code",
        "colab": {},
        "outputId": "3132d8fe-5335-4d16-daae-043e55662317"
      },
      "cell_type": "code",
      "source": [
        "vh"
      ],
      "execution_count": 0,
      "outputs": [
        {
          "output_type": "execute_result",
          "data": {
            "text/plain": [
              "array([[ 0.2046,  0.3443,  0.5488,  0.7338],\n",
              "       [ 0.2181, -0.6561, -0.438 ,  0.5746],\n",
              "       [-0.7598,  0.3431, -0.4167,  0.3625],\n",
              "       [-0.5774, -0.5774,  0.5774,  0.    ]])"
            ]
          },
          "metadata": {
            "tags": []
          },
          "execution_count": 7
        }
      ]
    },
    {
      "metadata": {
        "id": "QCHGH6QpK5mk",
        "colab_type": "code",
        "colab": {},
        "outputId": "d17966bd-d296-46e2-bae0-7b3b58dc9237"
      },
      "cell_type": "code",
      "source": [
        "s"
      ],
      "execution_count": 0,
      "outputs": [
        {
          "output_type": "execute_result",
          "data": {
            "text/plain": [
              "array([6.7509, 1.1734, 0.2186])"
            ]
          },
          "metadata": {
            "tags": []
          },
          "execution_count": 8
        }
      ]
    },
    {
      "metadata": {
        "id": "VSA0msoSK5mw",
        "colab_type": "code",
        "colab": {},
        "outputId": "d51c801a-0e70-474e-8c16-20cb4aceb15e"
      },
      "cell_type": "code",
      "source": [
        "np.dot(u,u.T)  # Verify u is orthonormal"
      ],
      "execution_count": 0,
      "outputs": [
        {
          "output_type": "execute_result",
          "data": {
            "text/plain": [
              "array([[ 1.,  0.,  0.],\n",
              "       [ 0.,  1., -0.],\n",
              "       [ 0., -0.,  1.]])"
            ]
          },
          "metadata": {
            "tags": []
          },
          "execution_count": 9
        }
      ]
    },
    {
      "metadata": {
        "id": "yEqsh1LWK5m8",
        "colab_type": "code",
        "colab": {},
        "outputId": "34773c63-4d21-4776-bbb4-d351ea6902c8"
      },
      "cell_type": "code",
      "source": [
        "np.dot(vh,vh.T) # Verify vh is orthonormal"
      ],
      "execution_count": 0,
      "outputs": [
        {
          "output_type": "execute_result",
          "data": {
            "text/plain": [
              "array([[ 1.,  0.,  0.,  0.],\n",
              "       [ 0.,  1.,  0., -0.],\n",
              "       [ 0.,  0.,  1., -0.],\n",
              "       [ 0., -0., -0.,  1.]])"
            ]
          },
          "metadata": {
            "tags": []
          },
          "execution_count": 10
        }
      ]
    },
    {
      "metadata": {
        "id": "KGOuAXDBK5nI",
        "colab_type": "text"
      },
      "cell_type": "markdown",
      "source": [
        "### Since s is given simply as a 3-element numpy array, we need to reshape it into a 3x4 array with the 3 elements along its diagonal. Below is one way to do it - not the only way to do it. ##"
      ]
    },
    {
      "metadata": {
        "id": "vXGTqIIVK5nN",
        "colab_type": "code",
        "colab": {}
      },
      "cell_type": "code",
      "source": [
        "sd=np.diag(s) # makes a 3x3 diagonal matrix with x along the diagonal"
      ],
      "execution_count": 0,
      "outputs": []
    },
    {
      "metadata": {
        "id": "vSm8cGWSK5nW",
        "colab_type": "code",
        "colab": {},
        "outputId": "6c6fc8a0-bf60-483c-aedd-28de784e9338"
      },
      "cell_type": "code",
      "source": [
        "sd.shape"
      ],
      "execution_count": 0,
      "outputs": [
        {
          "output_type": "execute_result",
          "data": {
            "text/plain": [
              "(3, 3)"
            ]
          },
          "metadata": {
            "tags": []
          },
          "execution_count": 26
        }
      ]
    },
    {
      "metadata": {
        "id": "GqhTWPpeK5nf",
        "colab_type": "code",
        "colab": {}
      },
      "cell_type": "code",
      "source": [
        "b = np.zeros((3,4))"
      ],
      "execution_count": 0,
      "outputs": []
    },
    {
      "metadata": {
        "id": "EsI8rLKDK5nl",
        "colab_type": "code",
        "colab": {}
      },
      "cell_type": "code",
      "source": [
        "b[:,:-1]=sd"
      ],
      "execution_count": 0,
      "outputs": []
    },
    {
      "metadata": {
        "id": "2kJ66tJYK5n1",
        "colab_type": "code",
        "colab": {},
        "outputId": "fa22deab-91ff-48fc-a6d2-2f4875463b8d"
      },
      "cell_type": "code",
      "source": [
        "b"
      ],
      "execution_count": 0,
      "outputs": [
        {
          "output_type": "execute_result",
          "data": {
            "text/plain": [
              "array([[6.7509, 0.    , 0.    , 0.    ],\n",
              "       [0.    , 1.1734, 0.    , 0.    ],\n",
              "       [0.    , 0.    , 0.2186, 0.    ]])"
            ]
          },
          "metadata": {
            "tags": []
          },
          "execution_count": 29
        }
      ]
    },
    {
      "metadata": {
        "id": "TYfHGbBQK5oE",
        "colab_type": "code",
        "colab": {},
        "outputId": "e417d58d-ddde-47cb-f632-327f5908a941"
      },
      "cell_type": "code",
      "source": [
        "print(np.dot(np.dot(u,b),vh))  ### reconstructing a as product of u, s and vh"
      ],
      "execution_count": 0,
      "outputs": [
        {
          "output_type": "stream",
          "text": [
            "[[ 1.  2.  3.  4.]\n",
            " [ 1.  1.  2.  3.]\n",
            " [ 0.  1.  1. -0.]]\n"
          ],
          "name": "stdout"
        }
      ]
    },
    {
      "metadata": {
        "id": "AC4Efv6DK5oV",
        "colab_type": "text"
      },
      "cell_type": "markdown",
      "source": [
        "### So we have factored the matrix a into the form $U \\Sigma V^T $ where $U$ and $V$ are orthonormal and $\\Sigma$ is the diagonal matrix of singular values of the original matrix: ###"
      ]
    },
    {
      "metadata": {
        "id": "SfXRxERJK5oZ",
        "colab_type": "text"
      },
      "cell_type": "markdown",
      "source": [
        "<font size=2>$\n",
        "\\begin{bmatrix}\n",
        "    1     & 2  & 3 & 4  \\\\\n",
        "    1     & 1  & 2 & 3 \\\\\n",
        "    0     & 1  & 1 & 0\n",
        "\\end{bmatrix}=\n",
        "\\begin{bmatrix}\n",
        "    0.8109   &-0.0934  &  0.5776 \\\\\n",
        "     0.57   & 0.3493  & -0.7437 \\\\\n",
        " 0.1323      &-0.9324  & -0.3365\n",
        "\\end{bmatrix}.\n",
        "\\begin{bmatrix}\n",
        "      6.7509  & 0  & 0 & 0  \\\\\n",
        "    0     & 1.1734   & 0 & 0  \\\\\n",
        "    0     & 0  & 0.2186 & 0 \\\\\n",
        "\\end{bmatrix}.\n",
        "\\begin{bmatrix}\n",
        "      0.2046  &   0.3443 &  0.5488 &  0.7338 \\\\\n",
        "      0.2181 &-0.6561   & -0.438 &  0.5746\\\\\n",
        "      -0.7598 & 0.3431  &  -0.4167 & 0.3625\\\\\n",
        "      -0.5774&-0.5774&0.5774 &0\n",
        "\\end{bmatrix}\n",
        "$</font>"
      ]
    },
    {
      "metadata": {
        "id": "01MFOSBlK5oc",
        "colab_type": "text"
      },
      "cell_type": "markdown",
      "source": [
        "#### Notice how the sigular values are ordered in decreasing magintue along the diagonal of $\\Sigma$ ###"
      ]
    },
    {
      "metadata": {
        "id": "cnQvNIxAK5oi",
        "colab_type": "text"
      },
      "cell_type": "markdown",
      "source": [
        "## Another Example - an mxn matrix where m > n ##"
      ]
    },
    {
      "metadata": {
        "id": "O-2D3EG-K5om",
        "colab_type": "code",
        "colab": {}
      },
      "cell_type": "code",
      "source": [
        "a= np.array([[1,2,3,4], [1,1,2,3],[0,1,1,0],[0,2,2,0], [0,5,5,0] ])"
      ],
      "execution_count": 0,
      "outputs": []
    },
    {
      "metadata": {
        "id": "Wuim0d4TK5or",
        "colab_type": "text"
      },
      "cell_type": "markdown",
      "source": [
        "$ \\begin{bmatrix}\n",
        "1 &  2 & 3 & 4 \\\\\n",
        "1 & 1 & 2 & 3 \\\\\n",
        "0 & 1 & 1 & 0 \\\\\n",
        "0 & 2 & 2 & 0 \\\\\n",
        "0 & 5 & 5 & 0 \n",
        "\\end{bmatrix}  $"
      ]
    },
    {
      "metadata": {
        "id": "ii_LwquxK5os",
        "colab_type": "text"
      },
      "cell_type": "markdown",
      "source": [
        "### We should find 3 or fewer singular values rince rank of this matrix is <= 3 ###"
      ]
    },
    {
      "metadata": {
        "id": "CbGNoFweK5ow",
        "colab_type": "code",
        "colab": {}
      },
      "cell_type": "code",
      "source": [
        "u, s, vh = np.linalg.svd(a)"
      ],
      "execution_count": 0,
      "outputs": []
    },
    {
      "metadata": {
        "id": "LvJeKNPmK5o1",
        "colab_type": "code",
        "colab": {},
        "outputId": "d07d710b-27a8-4fe7-d601-eea58db8747e"
      },
      "cell_type": "code",
      "source": [
        "u"
      ],
      "execution_count": 0,
      "outputs": [
        {
          "output_type": "execute_result",
          "data": {
            "text/plain": [
              "array([[-0.5185, -0.5983,  0.6108,  0.    , -0.    ],\n",
              "       [-0.3389, -0.512 , -0.7893, -0.    ,  0.    ],\n",
              "       [-0.1433,  0.1125, -0.0114, -0.3651, -0.9129],\n",
              "       [-0.2866,  0.225 , -0.0229,  0.8873, -0.2819],\n",
              "       [-0.7166,  0.5626, -0.0572, -0.2819,  0.2953]])"
            ]
          },
          "metadata": {
            "tags": []
          },
          "execution_count": 33
        }
      ]
    },
    {
      "metadata": {
        "id": "6X79ziBWK5pE",
        "colab_type": "code",
        "colab": {},
        "outputId": "4a2dab96-0c4a-4ec8-81d0-10b727054cc2"
      },
      "cell_type": "code",
      "source": [
        "s"
      ],
      "execution_count": 0,
      "outputs": [
        {
          "output_type": "execute_result",
          "data": {
            "text/plain": [
              "array([9.2296, 4.4454, 0.2312, 0.    ])"
            ]
          },
          "metadata": {
            "tags": []
          },
          "execution_count": 34
        }
      ]
    },
    {
      "metadata": {
        "id": "OxlhXzMOK5pU",
        "colab_type": "code",
        "colab": {},
        "outputId": "f2d0d765-6824-4a07-c992-92d56ce71ce0"
      },
      "cell_type": "code",
      "source": [
        "vh"
      ],
      "execution_count": 0,
      "outputs": [
        {
          "output_type": "execute_result",
          "data": {
            "text/plain": [
              "array([[-0.0929, -0.6149, -0.7079, -0.3349],\n",
              "       [-0.2498,  0.375 ,  0.1252, -0.8839],\n",
              "       [-0.7718,  0.3846, -0.3872,  0.3264],\n",
              "       [-0.5774, -0.5774,  0.5774, -0.    ]])"
            ]
          },
          "metadata": {
            "tags": []
          },
          "execution_count": 35
        }
      ]
    },
    {
      "metadata": {
        "id": "nYvV7HTzK5pi",
        "colab_type": "code",
        "colab": {},
        "outputId": "80e64df7-596e-4579-d76e-1556d09d5e43"
      },
      "cell_type": "code",
      "source": [
        "u.shape, s.shape, vh.shape"
      ],
      "execution_count": 0,
      "outputs": [
        {
          "output_type": "execute_result",
          "data": {
            "text/plain": [
              "((5, 5), (4,), (4, 4))"
            ]
          },
          "metadata": {
            "tags": []
          },
          "execution_count": 36
        }
      ]
    },
    {
      "metadata": {
        "id": "qAJeqmMJK5pp",
        "colab_type": "code",
        "colab": {}
      },
      "cell_type": "code",
      "source": [
        "u, s, vh = np.linalg.svd(a, full_matrices=False)"
      ],
      "execution_count": 0,
      "outputs": []
    },
    {
      "metadata": {
        "id": "yR8xeHiKK5pt",
        "colab_type": "code",
        "colab": {},
        "outputId": "bd489108-7553-4512-baea-f89b7159cf9e"
      },
      "cell_type": "code",
      "source": [
        "u, s, vh"
      ],
      "execution_count": 0,
      "outputs": [
        {
          "output_type": "execute_result",
          "data": {
            "text/plain": [
              "(array([[-0.5185, -0.5983,  0.6108, -0.    ],\n",
              "        [-0.3389, -0.512 , -0.7893,  0.    ],\n",
              "        [-0.1433,  0.1125, -0.0114,  0.0312],\n",
              "        [-0.2866,  0.225 , -0.0229, -0.9302],\n",
              "        [-0.7166,  0.5626, -0.0572,  0.3658]]),\n",
              " array([9.2296, 4.4454, 0.2312, 0.    ]),\n",
              " array([[-0.0929, -0.6149, -0.7079, -0.3349],\n",
              "        [-0.2498,  0.375 ,  0.1252, -0.8839],\n",
              "        [-0.7718,  0.3846, -0.3872,  0.3264],\n",
              "        [ 0.5774,  0.5774, -0.5774,  0.    ]]))"
            ]
          },
          "metadata": {
            "tags": []
          },
          "execution_count": 22
        }
      ]
    },
    {
      "metadata": {
        "id": "81OyBo-6K5p4",
        "colab_type": "code",
        "colab": {}
      },
      "cell_type": "code",
      "source": [
        "b = np.zeros((5,4))"
      ],
      "execution_count": 0,
      "outputs": []
    },
    {
      "metadata": {
        "id": "PI4IJvC2K5p9",
        "colab_type": "code",
        "colab": {}
      },
      "cell_type": "code",
      "source": [
        "b[:-1,:]=np.diag(s)"
      ],
      "execution_count": 0,
      "outputs": []
    },
    {
      "metadata": {
        "id": "2NEcxU1wK5qE",
        "colab_type": "code",
        "colab": {},
        "outputId": "75a27a3a-fe5a-4021-ac2c-4d796205ffe0"
      },
      "cell_type": "code",
      "source": [
        "b"
      ],
      "execution_count": 0,
      "outputs": [
        {
          "output_type": "execute_result",
          "data": {
            "text/plain": [
              "array([[9.2296, 0.    , 0.    , 0.    ],\n",
              "       [0.    , 4.4454, 0.    , 0.    ],\n",
              "       [0.    , 0.    , 0.2312, 0.    ],\n",
              "       [0.    , 0.    , 0.    , 0.    ],\n",
              "       [0.    , 0.    , 0.    , 0.    ]])"
            ]
          },
          "metadata": {
            "tags": []
          },
          "execution_count": 39
        }
      ]
    },
    {
      "metadata": {
        "id": "FgC0vUD0K5qJ",
        "colab_type": "code",
        "colab": {},
        "outputId": "3a709d6c-14ce-475f-93cd-1d410ddb5f90"
      },
      "cell_type": "code",
      "source": [
        "print(np.dot(np.dot(u,b),vh))"
      ],
      "execution_count": 0,
      "outputs": [
        {
          "output_type": "stream",
          "text": [
            "[[1. 2. 3. 4.]\n",
            " [1. 1. 2. 3.]\n",
            " [0. 1. 1. 0.]\n",
            " [0. 2. 2. 0.]\n",
            " [0. 5. 5. 0.]]\n"
          ],
          "name": "stdout"
        }
      ]
    },
    {
      "metadata": {
        "id": "OckVm8ZwK5qP",
        "colab_type": "code",
        "colab": {},
        "outputId": "8501f3b3-36e2-4da2-fe71-0577c912cf56"
      },
      "cell_type": "code",
      "source": [
        "print(a)"
      ],
      "execution_count": 0,
      "outputs": [
        {
          "output_type": "stream",
          "text": [
            "[[1 2 3 4]\n",
            " [1 1 2 3]\n",
            " [0 1 1 0]\n",
            " [0 2 2 0]\n",
            " [0 5 5 0]]\n"
          ],
          "name": "stdout"
        }
      ]
    },
    {
      "metadata": {
        "id": "eWPxFqRQK5qc",
        "colab_type": "code",
        "colab": {}
      },
      "cell_type": "code",
      "source": [
        ""
      ],
      "execution_count": 0,
      "outputs": []
    }
  ]
}